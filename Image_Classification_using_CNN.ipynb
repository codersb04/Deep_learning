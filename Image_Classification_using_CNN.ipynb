{
  "nbformat": 4,
  "nbformat_minor": 0,
  "metadata": {
    "colab": {
      "provenance": []
    },
    "kernelspec": {
      "name": "python3",
      "display_name": "Python 3"
    },
    "language_info": {
      "name": "python"
    }
  },
  "cells": [
    {
      "cell_type": "code",
      "execution_count": 51,
      "metadata": {
        "id": "YeoFa0ivyc6M"
      },
      "outputs": [],
      "source": [
        "import numpy as np\n",
        "import pandas as pd\n",
        "import tensorflow as tf\n",
        "from tensorflow.keras import datasets, layers, models\n",
        "from tensorflow import keras\n",
        "import matplotlib.pyplot as plt\n"
      ]
    },
    {
      "cell_type": "markdown",
      "source": [
        "# Data Collection, Analysis and Processing"
      ],
      "metadata": {
        "id": "nkzVmIYOzHmx"
      }
    },
    {
      "cell_type": "code",
      "source": [
        "(X_train, Y_train), (X_test, Y_test) = datasets.cifar10.load_data()"
      ],
      "metadata": {
        "id": "oA_mOmb6y_7b"
      },
      "execution_count": 52,
      "outputs": []
    },
    {
      "cell_type": "code",
      "source": [
        "X_train.shape, Y_train.shape"
      ],
      "metadata": {
        "colab": {
          "base_uri": "https://localhost:8080/"
        },
        "id": "NRk1-C0yzGk3",
        "outputId": "4d577ca8-68d4-486f-9d1c-cf7cc36bb4c4"
      },
      "execution_count": 53,
      "outputs": [
        {
          "output_type": "execute_result",
          "data": {
            "text/plain": [
              "((50000, 32, 32, 3), (50000, 1))"
            ]
          },
          "metadata": {},
          "execution_count": 53
        }
      ]
    },
    {
      "cell_type": "code",
      "source": [
        "X_test.shape, Y_test.shape"
      ],
      "metadata": {
        "colab": {
          "base_uri": "https://localhost:8080/"
        },
        "id": "WLi4XSA2Xq6A",
        "outputId": "89e646ac-9601-4cb4-afba-fe079c4aa4c6"
      },
      "execution_count": 54,
      "outputs": [
        {
          "output_type": "execute_result",
          "data": {
            "text/plain": [
              "((10000, 32, 32, 3), (10000, 1))"
            ]
          },
          "metadata": {},
          "execution_count": 54
        }
      ]
    },
    {
      "cell_type": "code",
      "source": [
        "np.unique(Y_train)"
      ],
      "metadata": {
        "colab": {
          "base_uri": "https://localhost:8080/"
        },
        "id": "2eIGhfjIXyTu",
        "outputId": "0c0b481e-5747-4c5c-f2d6-c2d09db83672"
      },
      "execution_count": 55,
      "outputs": [
        {
          "output_type": "execute_result",
          "data": {
            "text/plain": [
              "array([0, 1, 2, 3, 4, 5, 6, 7, 8, 9], dtype=uint8)"
            ]
          },
          "metadata": {},
          "execution_count": 55
        }
      ]
    },
    {
      "cell_type": "markdown",
      "source": [
        "0 --> airplane 1 --> automobile 2 --> bird 3 --> cat 4 --> deer 5 --> dog 6 --> frog 7 --> horse 8 --> ship 9 --> truck"
      ],
      "metadata": {
        "id": "rFlQA0jQYFqT"
      }
    },
    {
      "cell_type": "code",
      "source": [
        "X_train[0]"
      ],
      "metadata": {
        "colab": {
          "base_uri": "https://localhost:8080/"
        },
        "id": "9p8EZb3BYJ3Y",
        "outputId": "519590cb-1e85-4fd4-c571-a6bdd7db265c"
      },
      "execution_count": 56,
      "outputs": [
        {
          "output_type": "execute_result",
          "data": {
            "text/plain": [
              "array([[[ 59,  62,  63],\n",
              "        [ 43,  46,  45],\n",
              "        [ 50,  48,  43],\n",
              "        ...,\n",
              "        [158, 132, 108],\n",
              "        [152, 125, 102],\n",
              "        [148, 124, 103]],\n",
              "\n",
              "       [[ 16,  20,  20],\n",
              "        [  0,   0,   0],\n",
              "        [ 18,   8,   0],\n",
              "        ...,\n",
              "        [123,  88,  55],\n",
              "        [119,  83,  50],\n",
              "        [122,  87,  57]],\n",
              "\n",
              "       [[ 25,  24,  21],\n",
              "        [ 16,   7,   0],\n",
              "        [ 49,  27,   8],\n",
              "        ...,\n",
              "        [118,  84,  50],\n",
              "        [120,  84,  50],\n",
              "        [109,  73,  42]],\n",
              "\n",
              "       ...,\n",
              "\n",
              "       [[208, 170,  96],\n",
              "        [201, 153,  34],\n",
              "        [198, 161,  26],\n",
              "        ...,\n",
              "        [160, 133,  70],\n",
              "        [ 56,  31,   7],\n",
              "        [ 53,  34,  20]],\n",
              "\n",
              "       [[180, 139,  96],\n",
              "        [173, 123,  42],\n",
              "        [186, 144,  30],\n",
              "        ...,\n",
              "        [184, 148,  94],\n",
              "        [ 97,  62,  34],\n",
              "        [ 83,  53,  34]],\n",
              "\n",
              "       [[177, 144, 116],\n",
              "        [168, 129,  94],\n",
              "        [179, 142,  87],\n",
              "        ...,\n",
              "        [216, 184, 140],\n",
              "        [151, 118,  84],\n",
              "        [123,  92,  72]]], dtype=uint8)"
            ]
          },
          "metadata": {},
          "execution_count": 56
        }
      ]
    },
    {
      "cell_type": "code",
      "source": [
        "X_test[0]"
      ],
      "metadata": {
        "colab": {
          "base_uri": "https://localhost:8080/"
        },
        "id": "WVL7sYMl1z63",
        "outputId": "9a7b667f-8854-4437-dd2c-b49cc0bcda18"
      },
      "execution_count": 57,
      "outputs": [
        {
          "output_type": "execute_result",
          "data": {
            "text/plain": [
              "array([[[158, 112,  49],\n",
              "        [159, 111,  47],\n",
              "        [165, 116,  51],\n",
              "        ...,\n",
              "        [137,  95,  36],\n",
              "        [126,  91,  36],\n",
              "        [116,  85,  33]],\n",
              "\n",
              "       [[152, 112,  51],\n",
              "        [151, 110,  40],\n",
              "        [159, 114,  45],\n",
              "        ...,\n",
              "        [136,  95,  31],\n",
              "        [125,  91,  32],\n",
              "        [119,  88,  34]],\n",
              "\n",
              "       [[151, 110,  47],\n",
              "        [151, 109,  33],\n",
              "        [158, 111,  36],\n",
              "        ...,\n",
              "        [139,  98,  34],\n",
              "        [130,  95,  34],\n",
              "        [120,  89,  33]],\n",
              "\n",
              "       ...,\n",
              "\n",
              "       [[ 68, 124, 177],\n",
              "        [ 42, 100, 148],\n",
              "        [ 31,  88, 137],\n",
              "        ...,\n",
              "        [ 38,  97, 146],\n",
              "        [ 13,  64, 108],\n",
              "        [ 40,  85, 127]],\n",
              "\n",
              "       [[ 61, 116, 168],\n",
              "        [ 49, 102, 148],\n",
              "        [ 35,  85, 132],\n",
              "        ...,\n",
              "        [ 26,  82, 130],\n",
              "        [ 29,  82, 126],\n",
              "        [ 20,  64, 107]],\n",
              "\n",
              "       [[ 54, 107, 160],\n",
              "        [ 56, 105, 149],\n",
              "        [ 45,  89, 132],\n",
              "        ...,\n",
              "        [ 24,  77, 124],\n",
              "        [ 34,  84, 129],\n",
              "        [ 21,  67, 110]]], dtype=uint8)"
            ]
          },
          "metadata": {},
          "execution_count": 57
        }
      ]
    },
    {
      "cell_type": "code",
      "source": [
        "# Reshape Y train into 1D array\n",
        "Y_train = Y_train.reshape(-1,)\n",
        "Y_test = Y_test.reshape(-1,)\n",
        "Y_train[:5], Y_test[:5]"
      ],
      "metadata": {
        "colab": {
          "base_uri": "https://localhost:8080/"
        },
        "id": "aWQezMB1ZrrC",
        "outputId": "970b0763-e843-490e-e8d1-cda67c11bbc4"
      },
      "execution_count": 58,
      "outputs": [
        {
          "output_type": "execute_result",
          "data": {
            "text/plain": [
              "(array([6, 9, 9, 4, 1], dtype=uint8), array([3, 8, 8, 0, 6], dtype=uint8))"
            ]
          },
          "metadata": {},
          "execution_count": 58
        }
      ]
    },
    {
      "cell_type": "code",
      "source": [
        "# Target Classes\n",
        "classes = [\"airplane\", \"automobile\", \"bird\", \"cat\", \"deer\", \"dog\", \"frog\", \"horse\", \"ship\", \"truck\"]"
      ],
      "metadata": {
        "id": "ySqTdFPeY6M0"
      },
      "execution_count": 59,
      "outputs": []
    },
    {
      "cell_type": "code",
      "source": [
        "# Function to plot the image\n",
        "def plt_image(X, Y, index):\n",
        "  plt.figure(figsize = (15,2))\n",
        "  plt.imshow(X[index])\n",
        "  plt.xlabel(classes[Y[index]])"
      ],
      "metadata": {
        "id": "HoytvksQX2Rg"
      },
      "execution_count": 60,
      "outputs": []
    },
    {
      "cell_type": "code",
      "source": [
        "Y_train[0]"
      ],
      "metadata": {
        "colab": {
          "base_uri": "https://localhost:8080/"
        },
        "id": "x2Imk-pZYUmu",
        "outputId": "3e5282e9-11e7-4b13-e55e-f70a87ecad9d"
      },
      "execution_count": 61,
      "outputs": [
        {
          "output_type": "execute_result",
          "data": {
            "text/plain": [
              "6"
            ]
          },
          "metadata": {},
          "execution_count": 61
        }
      ]
    },
    {
      "cell_type": "code",
      "source": [
        "plt_image(X_train, Y_train, 0)"
      ],
      "metadata": {
        "colab": {
          "base_uri": "https://localhost:8080/",
          "height": 237
        },
        "id": "EiHaN60EYYhO",
        "outputId": "496573f7-a2fc-4564-b626-524330add8e0"
      },
      "execution_count": 62,
      "outputs": [
        {
          "output_type": "display_data",
          "data": {
            "text/plain": [
              "<Figure size 1500x200 with 1 Axes>"
            ],
            "image/png": "[encoded data removed]"
          },
          "metadata": {}
        }
      ]
    },
    {
      "cell_type": "code",
      "source": [
        "plt_image(X_test, Y_test, 0)"
      ],
      "metadata": {
        "colab": {
          "base_uri": "https://localhost:8080/",
          "height": 237
        },
        "id": "IkoxjIM21P6G",
        "outputId": "c5d56f3d-b8ae-451d-f89b-206669890d30"
      },
      "execution_count": 63,
      "outputs": [
        {
          "output_type": "display_data",
          "data": {
            "text/plain": [
              "<Figure size 1500x200 with 1 Axes>"
            ],
            "image/png": "[encoded data removed]"
          },
          "metadata": {}
        }
      ]
    },
    {
      "cell_type": "code",
      "source": [
        "# Normalize the X_train and X_test\n",
        "X_train = X_train/255\n",
        "X_test = X_test/255"
      ],
      "metadata": {
        "id": "8yz3eHMBao3_"
      },
      "execution_count": 64,
      "outputs": []
    },
    {
      "cell_type": "code",
      "source": [
        "X_test[1]"
      ],
      "metadata": {
        "colab": {
          "base_uri": "https://localhost:8080/"
        },
        "id": "YQ4v1RAT1qVV",
        "outputId": "8aac74d5-aa0c-4d9e-bf56-a92d799f9b42"
      },
      "execution_count": 65,
      "outputs": [
        {
          "output_type": "execute_result",
          "data": {
            "text/plain": [
              "array([[[0.92156863, 0.92156863, 0.92156863],\n",
              "        [0.90588235, 0.90588235, 0.90588235],\n",
              "        [0.90980392, 0.90980392, 0.90980392],\n",
              "        ...,\n",
              "        [0.91372549, 0.91372549, 0.91372549],\n",
              "        [0.91372549, 0.91372549, 0.91372549],\n",
              "        [0.90980392, 0.90980392, 0.90980392]],\n",
              "\n",
              "       [[0.93333333, 0.93333333, 0.93333333],\n",
              "        [0.92156863, 0.92156863, 0.92156863],\n",
              "        [0.92156863, 0.92156863, 0.92156863],\n",
              "        ...,\n",
              "        [0.9254902 , 0.9254902 , 0.9254902 ],\n",
              "        [0.9254902 , 0.9254902 , 0.9254902 ],\n",
              "        [0.92156863, 0.92156863, 0.92156863]],\n",
              "\n",
              "       [[0.92941176, 0.92941176, 0.92941176],\n",
              "        [0.91764706, 0.91764706, 0.91764706],\n",
              "        [0.91764706, 0.91764706, 0.91764706],\n",
              "        ...,\n",
              "        [0.92156863, 0.92156863, 0.92156863],\n",
              "        [0.92156863, 0.92156863, 0.92156863],\n",
              "        [0.91764706, 0.91764706, 0.91764706]],\n",
              "\n",
              "       ...,\n",
              "\n",
              "       [[0.34117647, 0.38823529, 0.34901961],\n",
              "        [0.16862745, 0.2       , 0.14509804],\n",
              "        [0.0745098 , 0.09019608, 0.04313725],\n",
              "        ...,\n",
              "        [0.6627451 , 0.72156863, 0.70196078],\n",
              "        [0.71372549, 0.77254902, 0.75686275],\n",
              "        [0.7372549 , 0.79215686, 0.78823529]],\n",
              "\n",
              "       [[0.32156863, 0.37647059, 0.32156863],\n",
              "        [0.18039216, 0.22352941, 0.14117647],\n",
              "        [0.14117647, 0.17254902, 0.08627451],\n",
              "        ...,\n",
              "        [0.68235294, 0.74117647, 0.71764706],\n",
              "        [0.7254902 , 0.78431373, 0.76862745],\n",
              "        [0.73333333, 0.79215686, 0.78431373]],\n",
              "\n",
              "       [[0.33333333, 0.39607843, 0.3254902 ],\n",
              "        [0.24313725, 0.29411765, 0.18823529],\n",
              "        [0.22745098, 0.2627451 , 0.14901961],\n",
              "        ...,\n",
              "        [0.65882353, 0.71764706, 0.69803922],\n",
              "        [0.70588235, 0.76470588, 0.74901961],\n",
              "        [0.72941176, 0.78431373, 0.78039216]]])"
            ]
          },
          "metadata": {},
          "execution_count": 65
        }
      ]
    },
    {
      "cell_type": "code",
      "source": [
        "X_train[1]"
      ],
      "metadata": {
        "colab": {
          "base_uri": "https://localhost:8080/"
        },
        "id": "z0fKP9tzbD6e",
        "outputId": "e7297cba-df2d-4dc1-91c9-347df3a99677"
      },
      "execution_count": 66,
      "outputs": [
        {
          "output_type": "execute_result",
          "data": {
            "text/plain": [
              "array([[[0.60392157, 0.69411765, 0.73333333],\n",
              "        [0.49411765, 0.5372549 , 0.53333333],\n",
              "        [0.41176471, 0.40784314, 0.37254902],\n",
              "        ...,\n",
              "        [0.35686275, 0.37254902, 0.27843137],\n",
              "        [0.34117647, 0.35294118, 0.27843137],\n",
              "        [0.30980392, 0.31764706, 0.2745098 ]],\n",
              "\n",
              "       [[0.54901961, 0.62745098, 0.6627451 ],\n",
              "        [0.56862745, 0.6       , 0.60392157],\n",
              "        [0.49019608, 0.49019608, 0.4627451 ],\n",
              "        ...,\n",
              "        [0.37647059, 0.38823529, 0.30588235],\n",
              "        [0.30196078, 0.31372549, 0.24313725],\n",
              "        [0.27843137, 0.28627451, 0.23921569]],\n",
              "\n",
              "       [[0.54901961, 0.60784314, 0.64313725],\n",
              "        [0.54509804, 0.57254902, 0.58431373],\n",
              "        [0.45098039, 0.45098039, 0.43921569],\n",
              "        ...,\n",
              "        [0.30980392, 0.32156863, 0.25098039],\n",
              "        [0.26666667, 0.2745098 , 0.21568627],\n",
              "        [0.2627451 , 0.27058824, 0.21568627]],\n",
              "\n",
              "       ...,\n",
              "\n",
              "       [[0.68627451, 0.65490196, 0.65098039],\n",
              "        [0.61176471, 0.60392157, 0.62745098],\n",
              "        [0.60392157, 0.62745098, 0.66666667],\n",
              "        ...,\n",
              "        [0.16470588, 0.13333333, 0.14117647],\n",
              "        [0.23921569, 0.20784314, 0.22352941],\n",
              "        [0.36470588, 0.3254902 , 0.35686275]],\n",
              "\n",
              "       [[0.64705882, 0.60392157, 0.50196078],\n",
              "        [0.61176471, 0.59607843, 0.50980392],\n",
              "        [0.62352941, 0.63137255, 0.55686275],\n",
              "        ...,\n",
              "        [0.40392157, 0.36470588, 0.37647059],\n",
              "        [0.48235294, 0.44705882, 0.47058824],\n",
              "        [0.51372549, 0.4745098 , 0.51372549]],\n",
              "\n",
              "       [[0.63921569, 0.58039216, 0.47058824],\n",
              "        [0.61960784, 0.58039216, 0.47843137],\n",
              "        [0.63921569, 0.61176471, 0.52156863],\n",
              "        ...,\n",
              "        [0.56078431, 0.52156863, 0.54509804],\n",
              "        [0.56078431, 0.5254902 , 0.55686275],\n",
              "        [0.56078431, 0.52156863, 0.56470588]]])"
            ]
          },
          "metadata": {},
          "execution_count": 66
        }
      ]
    },
    {
      "cell_type": "markdown",
      "source": [
        "## Model BUilding using Artificial Neural Network"
      ],
      "metadata": {
        "id": "Z8laByvxbNv7"
      }
    },
    {
      "cell_type": "code",
      "source": [
        "model = keras.Sequential([\n",
        "    keras.layers.Flatten(input_shape = (32,32,3)),\n",
        "    keras.layers.Dense(3000, activation=\"relu\"),\n",
        "    keras.layers.Dense(3000, activation=\"relu\"),\n",
        "    keras.layers.Dense(10, activation = \"sigmoid\")\n",
        "])\n",
        "\n",
        "model.compile(optimizer = 'SGD',\n",
        "    loss = \"sparse_categorical_crossentropy\",\n",
        "    metrics =['accuracy']\n",
        ")\n",
        "\n",
        "# use \"categorical_crossentropy\" whenever one-hot-encoding is performed,\n",
        "# If classes is in form of direct values then we use \"sparse_categorical_crossentropy\"\n",
        "# in case of discrete values(0,1,2,..) use sparse cross entropy for calculating loss\n",
        "\n",
        "model.fit(X_train, Y_train, epochs = 5)"
      ],
      "metadata": {
        "colab": {
          "base_uri": "https://localhost:8080/"
        },
        "id": "m1yIHHHkbL-w",
        "outputId": "78d49c0d-61b6-4130-d884-b3864194a2a0"
      },
      "execution_count": 23,
      "outputs": [
        {
          "output_type": "stream",
          "name": "stdout",
          "text": [
            "Epoch 1/5\n",
            "1563/1563 [==============================] - 251s 160ms/step - loss: 1.8093 - accuracy: 0.3560\n",
            "Epoch 2/5\n",
            "1563/1563 [==============================] - 244s 156ms/step - loss: 1.6192 - accuracy: 0.4292\n",
            "Epoch 3/5\n",
            "1563/1563 [==============================] - 253s 162ms/step - loss: 1.5391 - accuracy: 0.4572\n",
            "Epoch 4/5\n",
            "1563/1563 [==============================] - 248s 158ms/step - loss: 1.4779 - accuracy: 0.4795\n",
            "Epoch 5/5\n",
            "1563/1563 [==============================] - 257s 164ms/step - loss: 1.4268 - accuracy: 0.4984\n"
          ]
        },
        {
          "output_type": "execute_result",
          "data": {
            "text/plain": [
              "<keras.src.callbacks.History at 0x7e8053322da0>"
            ]
          },
          "metadata": {},
          "execution_count": 23
        }
      ]
    },
    {
      "cell_type": "code",
      "source": [
        "model.summary()"
      ],
      "metadata": {
        "colab": {
          "base_uri": "https://localhost:8080/"
        },
        "id": "hO5WESB5mSau",
        "outputId": "e1b8164a-980e-49fa-fa36-02199748c0d7"
      },
      "execution_count": 29,
      "outputs": [
        {
          "output_type": "stream",
          "name": "stdout",
          "text": [
            "Model: \"sequential\"\n",
            "_________________________________________________________________\n",
            " Layer (type)                Output Shape              Param #   \n",
            "=================================================================\n",
            " flatten (Flatten)           (None, 3072)              0         \n",
            "                                                                 \n",
            " dense (Dense)               (None, 3000)              9219000   \n",
            "                                                                 \n",
            " dense_1 (Dense)             (None, 3000)              9003000   \n",
            "                                                                 \n",
            " dense_2 (Dense)             (None, 10)                30010     \n",
            "                                                                 \n",
            "=================================================================\n",
            "Total params: 18252010 (69.63 MB)\n",
            "Trainable params: 18252010 (69.63 MB)\n",
            "Non-trainable params: 0 (0.00 Byte)\n",
            "_________________________________________________________________\n"
          ]
        }
      ]
    },
    {
      "cell_type": "code",
      "source": [
        "# Test data\n",
        "model.evaluate(X_test, Y_test)"
      ],
      "metadata": {
        "colab": {
          "base_uri": "https://localhost:8080/"
        },
        "id": "fmC6z6VKcHyc",
        "outputId": "4aaf54a3-240c-4459-bf92-53d6cb92e8a8"
      },
      "execution_count": 24,
      "outputs": [
        {
          "output_type": "stream",
          "name": "stdout",
          "text": [
            "313/313 [==============================] - 19s 55ms/step - loss: 1.4432 - accuracy: 0.4894\n"
          ]
        },
        {
          "output_type": "execute_result",
          "data": {
            "text/plain": [
              "[1.4431711435317993, 0.4893999993801117]"
            ]
          },
          "metadata": {},
          "execution_count": 24
        }
      ]
    },
    {
      "cell_type": "code",
      "source": [
        "# Printing the classification report\n",
        "\n",
        "from sklearn.metrics import classification_report\n",
        "\n",
        "y_pred = model.predict(X_test)\n",
        "y_pred_class = [np.argmax(element) for element in y_pred]\n",
        "\n",
        "print(\"Classification Report: \\n\", classification_report(Y_test, y_pred_class))"
      ],
      "metadata": {
        "colab": {
          "base_uri": "https://localhost:8080/"
        },
        "id": "Jjqbg_V5iGoU",
        "outputId": "b57eda2e-4e81-45b0-d65a-5973a123056e"
      },
      "execution_count": 26,
      "outputs": [
        {
          "output_type": "stream",
          "name": "stdout",
          "text": [
            "313/313 [==============================] - 18s 56ms/step\n",
            "Classification Report: \n",
            "               precision    recall  f1-score   support\n",
            "\n",
            "           0       0.51      0.59      0.55      1000\n",
            "           1       0.60      0.65      0.62      1000\n",
            "           2       0.41      0.28      0.34      1000\n",
            "           3       0.41      0.22      0.29      1000\n",
            "           4       0.40      0.47      0.43      1000\n",
            "           5       0.40      0.40      0.40      1000\n",
            "           6       0.54      0.50      0.52      1000\n",
            "           7       0.46      0.67      0.55      1000\n",
            "           8       0.52      0.70      0.60      1000\n",
            "           9       0.65      0.41      0.50      1000\n",
            "\n",
            "    accuracy                           0.49     10000\n",
            "   macro avg       0.49      0.49      0.48     10000\n",
            "weighted avg       0.49      0.49      0.48     10000\n",
            "\n"
          ]
        }
      ]
    },
    {
      "cell_type": "markdown",
      "source": [
        "## Model Building using CNN"
      ],
      "metadata": {
        "id": "goXlTPEwjQMy"
      }
    },
    {
      "cell_type": "code",
      "source": [
        "cnn_model = models.Sequential([\n",
        "    #cnn layer\n",
        "     # Convoluational Layer\n",
        "    layers.Conv2D(filters = 32, kernel_size = (3,3), activation = 'relu', input_shape = (32, 32,3)),\n",
        "    layers.MaxPooling2D((2,2)), # Pooling Layer\n",
        "    # Convoluational Layer\n",
        "    layers.Conv2D(filters = 32, kernel_size = (3,3), activation = 'relu', input_shape = (32, 32,3)),\n",
        "    layers.MaxPooling2D((2,2)), # Pooling Layer\n",
        "\n",
        "\n",
        "    # dense Network\n",
        "    layers.Flatten(),\n",
        "    layers.Dense(64, activation=\"relu\"),\n",
        "    layers.Dense(64, activation=\"relu\"),\n",
        "    layers.Dense(10, activation = \"softmax\")\n",
        "])\n",
        "\n",
        "# Softmax is used to normalized the output by\n",
        "# dividing output class probability with total probability of all the Target classes\n"
      ],
      "metadata": {
        "id": "gr7ePqAwiphP"
      },
      "execution_count": 67,
      "outputs": []
    },
    {
      "cell_type": "code",
      "source": [
        "cnn_model.summary()"
      ],
      "metadata": {
        "colab": {
          "base_uri": "https://localhost:8080/"
        },
        "id": "aSOq5KrkmCdG",
        "outputId": "d03ffc3c-b6d3-44e9-ca5e-79e6b4da66cb"
      },
      "execution_count": 68,
      "outputs": [
        {
          "output_type": "stream",
          "name": "stdout",
          "text": [
            "Model: \"sequential_5\"\n",
            "_________________________________________________________________\n",
            " Layer (type)                Output Shape              Param #   \n",
            "=================================================================\n",
            " conv2d_8 (Conv2D)           (None, 30, 30, 32)        896       \n",
            "                                                                 \n",
            " max_pooling2d_8 (MaxPoolin  (None, 15, 15, 32)        0         \n",
            " g2D)                                                            \n",
            "                                                                 \n",
            " conv2d_9 (Conv2D)           (None, 13, 13, 32)        9248      \n",
            "                                                                 \n",
            " max_pooling2d_9 (MaxPoolin  (None, 6, 6, 32)          0         \n",
            " g2D)                                                            \n",
            "                                                                 \n",
            " flatten_5 (Flatten)         (None, 1152)              0         \n",
            "                                                                 \n",
            " dense_14 (Dense)            (None, 64)                73792     \n",
            "                                                                 \n",
            " dense_15 (Dense)            (None, 64)                4160      \n",
            "                                                                 \n",
            " dense_16 (Dense)            (None, 10)                650       \n",
            "                                                                 \n",
            "=================================================================\n",
            "Total params: 88746 (346.66 KB)\n",
            "Trainable params: 88746 (346.66 KB)\n",
            "Non-trainable params: 0 (0.00 Byte)\n",
            "_________________________________________________________________\n"
          ]
        }
      ]
    },
    {
      "cell_type": "code",
      "source": [
        "# Compile the model\n",
        "cnn_model.compile(optimizer = 'SGD',\n",
        "    loss = \"sparse_categorical_crossentropy\",\n",
        "    metrics =['accuracy']\n",
        ")\n",
        "\n",
        "cnn_model.fit(X_train, Y_train, epochs = 10)"
      ],
      "metadata": {
        "colab": {
          "base_uri": "https://localhost:8080/"
        },
        "id": "nIlT8W8WmHPg",
        "outputId": "be2a6eed-2fb0-41b4-ca86-da6a15d6ad64"
      },
      "execution_count": 70,
      "outputs": [
        {
          "output_type": "stream",
          "name": "stdout",
          "text": [
            "Epoch 1/10\n",
            "1563/1563 [==============================] - 57s 36ms/step - loss: 2.0701 - accuracy: 0.2377\n",
            "Epoch 2/10\n",
            "1563/1563 [==============================] - 55s 35ms/step - loss: 1.6955 - accuracy: 0.3861\n",
            "Epoch 3/10\n",
            "1563/1563 [==============================] - 55s 35ms/step - loss: 1.4864 - accuracy: 0.4613\n",
            "Epoch 4/10\n",
            "1563/1563 [==============================] - 54s 35ms/step - loss: 1.3701 - accuracy: 0.5109\n",
            "Epoch 5/10\n",
            "1563/1563 [==============================] - 54s 34ms/step - loss: 1.2834 - accuracy: 0.5454\n",
            "Epoch 6/10\n",
            "1563/1563 [==============================] - 53s 34ms/step - loss: 1.2131 - accuracy: 0.5704\n",
            "Epoch 7/10\n",
            "1563/1563 [==============================] - 54s 34ms/step - loss: 1.1505 - accuracy: 0.5938\n",
            "Epoch 8/10\n",
            "1563/1563 [==============================] - 53s 34ms/step - loss: 1.0983 - accuracy: 0.6133\n",
            "Epoch 9/10\n",
            "1563/1563 [==============================] - 54s 34ms/step - loss: 1.0533 - accuracy: 0.6292\n",
            "Epoch 10/10\n",
            "1563/1563 [==============================] - 52s 33ms/step - loss: 1.0135 - accuracy: 0.6463\n"
          ]
        },
        {
          "output_type": "execute_result",
          "data": {
            "text/plain": [
              "<keras.src.callbacks.History at 0x7e7fd78e6dd0>"
            ]
          },
          "metadata": {},
          "execution_count": 70
        }
      ]
    },
    {
      "cell_type": "code",
      "source": [
        "cnn_model.evaluate(X_test, Y_test)"
      ],
      "metadata": {
        "colab": {
          "base_uri": "https://localhost:8080/"
        },
        "id": "pRXJnGmUonAX",
        "outputId": "a412c802-61d4-420d-814b-7cd49a367613"
      },
      "execution_count": 71,
      "outputs": [
        {
          "output_type": "stream",
          "name": "stdout",
          "text": [
            "313/313 [==============================] - 4s 13ms/step - loss: 1.0547 - accuracy: 0.6357\n"
          ]
        },
        {
          "output_type": "execute_result",
          "data": {
            "text/plain": [
              "[1.0546618700027466, 0.635699987411499]"
            ]
          },
          "metadata": {},
          "execution_count": 71
        }
      ]
    },
    {
      "cell_type": "code",
      "source": [
        "# PLotting a image\n",
        "plt_image(X_test, Y_test, 1)"
      ],
      "metadata": {
        "colab": {
          "base_uri": "https://localhost:8080/",
          "height": 237
        },
        "id": "IcrjxJQnxpRh",
        "outputId": "acf2614d-7e93-4542-fa8e-897b082695dc"
      },
      "execution_count": 73,
      "outputs": [
        {
          "output_type": "display_data",
          "data": {
            "text/plain": [
              "<Figure size 1500x200 with 1 Axes>"
            ],
            "image/png": "[encoded data removed]"
          },
          "metadata": {}
        }
      ]
    },
    {
      "cell_type": "code",
      "source": [
        "# Performing the prediction\n",
        "y_pred_cnn = cnn_model.predict(X_test)\n",
        "y_pred_cnn[:5]"
      ],
      "metadata": {
        "colab": {
          "base_uri": "https://localhost:8080/"
        },
        "id": "RmI7Jux60_0y",
        "outputId": "0d0ca47e-af94-43e6-af5f-06edb4f9007b"
      },
      "execution_count": 74,
      "outputs": [
        {
          "output_type": "stream",
          "name": "stdout",
          "text": [
            "313/313 [==============================] - 5s 15ms/step\n"
          ]
        },
        {
          "output_type": "execute_result",
          "data": {
            "text/plain": [
              "array([[4.4042836e-03, 3.7699990e-04, 2.1163758e-02, 7.8940701e-01,\n",
              "        8.6371806e-03, 8.2369253e-02, 2.7568381e-02, 1.1591237e-03,\n",
              "        6.4401276e-02, 5.1274506e-04],\n",
              "       [3.3865467e-01, 4.8931560e-01, 6.1809522e-04, 1.5352965e-05,\n",
              "        5.4762553e-04, 5.0411268e-06, 1.6367649e-05, 8.9269952e-06,\n",
              "        1.3950874e-01, 3.1309649e-02],\n",
              "       [8.9779682e-02, 2.6605147e-01, 7.0736576e-03, 3.1400018e-03,\n",
              "        1.0437651e-02, 1.0368659e-03, 1.0293450e-03, 6.0237199e-04,\n",
              "        5.8466613e-01, 3.6182810e-02],\n",
              "       [5.8631313e-01, 2.2359302e-02, 1.9747570e-02, 1.2264505e-03,\n",
              "        1.4180820e-02, 2.9279233e-04, 1.4322308e-03, 2.7690228e-04,\n",
              "        3.4922090e-01, 4.9498840e-03],\n",
              "       [1.8228745e-04, 8.2311541e-05, 3.3641174e-02, 5.1976498e-02,\n",
              "        7.8848803e-01, 1.6094292e-02, 1.0816039e-01, 1.1658766e-03,\n",
              "        1.7172450e-04, 3.7394802e-05]], dtype=float32)"
            ]
          },
          "metadata": {},
          "execution_count": 74
        }
      ]
    },
    {
      "cell_type": "code",
      "source": [
        "y_class_cnn = [np.argmax(element) for element in y_pred_cnn]\n",
        "y_class_cnn[:5]"
      ],
      "metadata": {
        "colab": {
          "base_uri": "https://localhost:8080/"
        },
        "id": "tZLf7kXS5NpS",
        "outputId": "fa20c53c-1ba2-4278-c57a-eea7912eaf46"
      },
      "execution_count": 77,
      "outputs": [
        {
          "output_type": "execute_result",
          "data": {
            "text/plain": [
              "[3, 1, 8, 0, 4]"
            ]
          },
          "metadata": {},
          "execution_count": 77
        }
      ]
    },
    {
      "cell_type": "code",
      "source": [
        "Y_test[:5]"
      ],
      "metadata": {
        "colab": {
          "base_uri": "https://localhost:8080/"
        },
        "id": "_tZf6ylV5hfj",
        "outputId": "4aa6fc1a-1972-4338-bd0c-2cb40e0f13b7"
      },
      "execution_count": 78,
      "outputs": [
        {
          "output_type": "execute_result",
          "data": {
            "text/plain": [
              "array([3, 8, 8, 0, 6], dtype=uint8)"
            ]
          },
          "metadata": {},
          "execution_count": 78
        }
      ]
    },
    {
      "cell_type": "code",
      "source": [
        "# PLotting a image\n",
        "plt_image(X_test, Y_test, 2)"
      ],
      "metadata": {
        "colab": {
          "base_uri": "https://localhost:8080/",
          "height": 237
        },
        "id": "px_3Agk55pAh",
        "outputId": "78bb319e-ab36-4620-a9d2-df4673b9a4f6"
      },
      "execution_count": 83,
      "outputs": [
        {
          "output_type": "display_data",
          "data": {
            "text/plain": [
              "<Figure size 1500x200 with 1 Axes>"
            ],
            "image/png": "[encoded data removed]"
          },
          "metadata": {}
        }
      ]
    },
    {
      "cell_type": "code",
      "source": [
        "classes[y_class_cnn[2]]"
      ],
      "metadata": {
        "colab": {
          "base_uri": "https://localhost:8080/",
          "height": 36
        },
        "id": "TzymPQQJ59jN",
        "outputId": "404fa915-6c8f-45b4-a637-3d6010ebd50a"
      },
      "execution_count": 84,
      "outputs": [
        {
          "output_type": "execute_result",
          "data": {
            "text/plain": [
              "'ship'"
            ],
            "application/vnd.google.colaboratory.intrinsic+json": {
              "type": "string"
            }
          },
          "metadata": {},
          "execution_count": 84
        }
      ]
    },
    {
      "cell_type": "code",
      "source": [
        "print(\"CLassification Report: \\n\", classification_report(Y_test, y_class_cnn))"
      ],
      "metadata": {
        "colab": {
          "base_uri": "https://localhost:8080/"
        },
        "id": "lRItWKNa6QEL",
        "outputId": "8b556879-8df9-4b6d-9ce7-6e0a30982505"
      },
      "execution_count": 87,
      "outputs": [
        {
          "output_type": "stream",
          "name": "stdout",
          "text": [
            "CLassification Report: \n",
            "               precision    recall  f1-score   support\n",
            "\n",
            "           0       0.69      0.72      0.70      1000\n",
            "           1       0.68      0.82      0.74      1000\n",
            "           2       0.58      0.45      0.50      1000\n",
            "           3       0.48      0.44      0.46      1000\n",
            "           4       0.49      0.70      0.57      1000\n",
            "           5       0.59      0.47      0.52      1000\n",
            "           6       0.66      0.79      0.72      1000\n",
            "           7       0.71      0.69      0.70      1000\n",
            "           8       0.82      0.67      0.74      1000\n",
            "           9       0.73      0.61      0.67      1000\n",
            "\n",
            "    accuracy                           0.64     10000\n",
            "   macro avg       0.64      0.64      0.63     10000\n",
            "weighted avg       0.64      0.64      0.63     10000\n",
            "\n"
          ]
        }
      ]
    }
  ]
}