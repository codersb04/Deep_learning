{
  "nbformat": 4,
  "nbformat_minor": 0,
  "metadata": {
    "colab": {
      "provenance": []
    },
    "kernelspec": {
      "name": "python3",
      "display_name": "Python 3"
    },
    "language_info": {
      "name": "python"
    }
  },
  "cells": [
    {
      "cell_type": "code",
      "execution_count": 8,
      "metadata": {
        "colab": {
          "base_uri": "https://localhost:8080/"
        },
        "id": "2MNNp0hNsc2m",
        "outputId": "41af888e-1e9f-43d8-b810-a9a785b5d4d8"
      },
      "outputs": [
        {
          "output_type": "stream",
          "name": "stdout",
          "text": [
            "Requirement already satisfied: keras_tuner in /usr/local/lib/python3.10/dist-packages (1.4.6)\n",
            "Requirement already satisfied: keras in /usr/local/lib/python3.10/dist-packages (from keras_tuner) (2.14.0)\n",
            "Requirement already satisfied: packaging in /usr/local/lib/python3.10/dist-packages (from keras_tuner) (23.2)\n",
            "Requirement already satisfied: requests in /usr/local/lib/python3.10/dist-packages (from keras_tuner) (2.31.0)\n",
            "Requirement already satisfied: kt-legacy in /usr/local/lib/python3.10/dist-packages (from keras_tuner) (1.0.5)\n",
            "Requirement already satisfied: charset-normalizer<4,>=2 in /usr/local/lib/python3.10/dist-packages (from requests->keras_tuner) (3.3.2)\n",
            "Requirement already satisfied: idna<4,>=2.5 in /usr/local/lib/python3.10/dist-packages (from requests->keras_tuner) (3.6)\n",
            "Requirement already satisfied: urllib3<3,>=1.21.1 in /usr/local/lib/python3.10/dist-packages (from requests->keras_tuner) (2.0.7)\n",
            "Requirement already satisfied: certifi>=2017.4.17 in /usr/local/lib/python3.10/dist-packages (from requests->keras_tuner) (2023.11.17)\n"
          ]
        }
      ],
      "source": [
        "! pip install keras_tuner"
      ]
    },
    {
      "cell_type": "markdown",
      "source": [
        "## Install libraries"
      ],
      "metadata": {
        "id": "p8cXnjmZsnX7"
      }
    },
    {
      "cell_type": "code",
      "source": [
        "import tensorflow as tf\n",
        "from tensorflow import keras\n",
        "import numpy as np"
      ],
      "metadata": {
        "id": "vYAHmlVtshE6"
      },
      "execution_count": 9,
      "outputs": []
    },
    {
      "cell_type": "code",
      "source": [
        "print(tf.__version__)"
      ],
      "metadata": {
        "colab": {
          "base_uri": "https://localhost:8080/"
        },
        "id": "epw0IxdftAOh",
        "outputId": "15beb7b8-df93-4706-ba86-59a9ab9ad319"
      },
      "execution_count": 10,
      "outputs": [
        {
          "output_type": "stream",
          "name": "stdout",
          "text": [
            "2.14.0\n"
          ]
        }
      ]
    },
    {
      "cell_type": "markdown",
      "source": [
        "## Data Collection"
      ],
      "metadata": {
        "id": "sF0GGiI4tJze"
      }
    },
    {
      "cell_type": "code",
      "source": [
        "fashion_mnist = keras.datasets.fashion_mnist"
      ],
      "metadata": {
        "id": "3AqKJgyjtDRR"
      },
      "execution_count": 11,
      "outputs": []
    },
    {
      "cell_type": "code",
      "source": [
        "(X_train, Y_train), (X_test, Y_test) = fashion_mnist.load_data()"
      ],
      "metadata": {
        "id": "OoyMXPBgtT8Q"
      },
      "execution_count": 12,
      "outputs": []
    },
    {
      "cell_type": "markdown",
      "source": [
        "## Data Normalization"
      ],
      "metadata": {
        "id": "p_Gu9EO1vWim"
      }
    },
    {
      "cell_type": "code",
      "source": [
        "X_train = X_train/255.0\n",
        "X_test = X_test/ 255.0"
      ],
      "metadata": {
        "id": "Bbe3uydWtgTs"
      },
      "execution_count": 13,
      "outputs": []
    },
    {
      "cell_type": "code",
      "source": [
        "# Reshape the image data to 4 dimension\n",
        "X_train = X_train.reshape(len(X_train), 28, 28, 1)\n",
        "X_test = X_test.reshape(len(X_test), 28, 28, 1)"
      ],
      "metadata": {
        "id": "qKtTCSbvvcpI"
      },
      "execution_count": 14,
      "outputs": []
    },
    {
      "cell_type": "code",
      "source": [
        "def build_model(hp):\n",
        "  model = keras.Sequential([\n",
        "      keras.layers.Conv2D(\n",
        "          filters = hp.Int('conv_1_filter', min_value = 32, max_value = 128, step = 16),\n",
        "          kernel_size=hp.Choice('cov_2_kernel', values = [3,5]),\n",
        "          activation = 'relu',\n",
        "          input_shape = (28,28,1)\n",
        "      ),\n",
        "      keras.layers.Conv2D(\n",
        "          filters = hp.Int('conv_1_filter', min_value = 32, max_value = 128, step = 16),\n",
        "          kernel_size=hp.Choice('cov_2_kernel', values = [3,5]),\n",
        "          activation = 'relu',\n",
        "      ),\n",
        "      keras.layers.Flatten(),\n",
        "      keras.layers.Dense(\n",
        "          units= hp.Int('dense_1_unit', min_value = 32, max_value = 128, step = 16),\n",
        "          activation = 'relu'\n",
        "      ),\n",
        "      keras.layers.Dense(10, activation='softmax')\n",
        "\n",
        "      ])\n",
        "\n",
        "  model.compile(\n",
        "      optimizer=keras.optimizers.Adam(hp.Choice('learning_rate', values = [1e-2, 1e-3])),\n",
        "      loss = 'sparse_categorical_crossentropy',\n",
        "      metrics = ['accuracy']\n",
        "  )\n",
        "\n",
        "  return model"
      ],
      "metadata": {
        "id": "doyskQjGwKWh"
      },
      "execution_count": 22,
      "outputs": []
    },
    {
      "cell_type": "code",
      "source": [
        "from kerastuner import RandomSearch\n",
        "from kerastuner.engine.hyperparameters import HyperParameters"
      ],
      "metadata": {
        "id": "76Xj-YgsDq7M"
      },
      "execution_count": 23,
      "outputs": []
    },
    {
      "cell_type": "code",
      "source": [
        "tunner_search = RandomSearch(build_model,\n",
        "                             objective='val_accuracy',\n",
        "                             max_trials=5,\n",
        "                             directory = 'output',\n",
        "                             project_name = 'Mnist Fashion')"
      ],
      "metadata": {
        "colab": {
          "base_uri": "https://localhost:8080/"
        },
        "id": "UCAZAW4kD4On",
        "outputId": "b1be9242-8494-42f6-f1f1-e8dcbda0bd1f"
      },
      "execution_count": 24,
      "outputs": [
        {
          "output_type": "stream",
          "name": "stdout",
          "text": [
            "Reloading Tuner from output/Mnist Fashion/tuner0.json\n"
          ]
        }
      ]
    },
    {
      "cell_type": "code",
      "source": [
        "tunner_search.search(X_train, Y_train, epochs = 3, validation_split = 0.1)"
      ],
      "metadata": {
        "colab": {
          "base_uri": "https://localhost:8080/"
        },
        "id": "8tZbrCz4EPPT",
        "outputId": "77d72cf9-c9de-4409-c3c8-e1b5245bd6be"
      },
      "execution_count": 25,
      "outputs": [
        {
          "output_type": "stream",
          "name": "stdout",
          "text": [
            "Trial 5 Complete [00h 29m 15s]\n",
            "val_accuracy: 0.9111666679382324\n",
            "\n",
            "Best val_accuracy So Far: 0.9111666679382324\n",
            "Total elapsed time: 01h 44m 29s\n"
          ]
        }
      ]
    },
    {
      "cell_type": "code",
      "source": [
        "model = tunner_search.get_best_models(num_models=1)[0]"
      ],
      "metadata": {
        "id": "ObreO8VwEwod"
      },
      "execution_count": 26,
      "outputs": []
    },
    {
      "cell_type": "code",
      "source": [
        "from ast import Num\n",
        "tunner_search.get_best_hyperparameters()"
      ],
      "metadata": {
        "colab": {
          "base_uri": "https://localhost:8080/"
        },
        "id": "mBmvFlJRdnZA",
        "outputId": "0e71a562-4952-456b-8636-d1363ffd1662"
      },
      "execution_count": 30,
      "outputs": [
        {
          "output_type": "execute_result",
          "data": {
            "text/plain": [
              "[<keras_tuner.src.engine.hyperparameters.hyperparameters.HyperParameters at 0x7d5625ce44f0>]"
            ]
          },
          "metadata": {},
          "execution_count": 30
        }
      ]
    },
    {
      "cell_type": "code",
      "source": [
        "model.summary()"
      ],
      "metadata": {
        "colab": {
          "base_uri": "https://localhost:8080/"
        },
        "id": "YhyjKlaBdb3O",
        "outputId": "471826ba-dd0f-49e2-ddc9-b3f264db9f48"
      },
      "execution_count": 27,
      "outputs": [
        {
          "output_type": "stream",
          "name": "stdout",
          "text": [
            "Model: \"sequential\"\n",
            "_________________________________________________________________\n",
            " Layer (type)                Output Shape              Param #   \n",
            "=================================================================\n",
            " conv2d (Conv2D)             (None, 26, 26, 96)        960       \n",
            "                                                                 \n",
            " conv2d_1 (Conv2D)           (None, 24, 24, 96)        83040     \n",
            "                                                                 \n",
            " flatten (Flatten)           (None, 55296)             0         \n",
            "                                                                 \n",
            " dense (Dense)               (None, 128)               7078016   \n",
            "                                                                 \n",
            " dense_1 (Dense)             (None, 10)                1290      \n",
            "                                                                 \n",
            "=================================================================\n",
            "Total params: 7163306 (27.33 MB)\n",
            "Trainable params: 7163306 (27.33 MB)\n",
            "Non-trainable params: 0 (0.00 Byte)\n",
            "_________________________________________________________________\n"
          ]
        }
      ]
    },
    {
      "cell_type": "code",
      "source": [
        "# train using the best model\n",
        "model.fit(X_train, Y_train, epochs = 10, validation_split=0.1, initial_epoch=3)"
      ],
      "metadata": {
        "colab": {
          "base_uri": "https://localhost:8080/"
        },
        "id": "e6iMHq6Ddd5S",
        "outputId": "7c21d98d-61be-4dec-f7e3-d7d38e3f7394"
      },
      "execution_count": 31,
      "outputs": [
        {
          "output_type": "stream",
          "name": "stdout",
          "text": [
            "Epoch 4/10\n",
            "1688/1688 [==============================] - 566s 335ms/step - loss: 0.1612 - accuracy: 0.9401 - val_loss: 0.2459 - val_accuracy: 0.9145\n",
            "Epoch 5/10\n",
            "1688/1688 [==============================] - 553s 327ms/step - loss: 0.1098 - accuracy: 0.9586 - val_loss: 0.2697 - val_accuracy: 0.9225\n",
            "Epoch 6/10\n",
            "1688/1688 [==============================] - 551s 327ms/step - loss: 0.0726 - accuracy: 0.9742 - val_loss: 0.2992 - val_accuracy: 0.9185\n",
            "Epoch 7/10\n",
            "1688/1688 [==============================] - 567s 336ms/step - loss: 0.0500 - accuracy: 0.9824 - val_loss: 0.3588 - val_accuracy: 0.9125\n",
            "Epoch 8/10\n",
            "1688/1688 [==============================] - 561s 332ms/step - loss: 0.0342 - accuracy: 0.9874 - val_loss: 0.3939 - val_accuracy: 0.9097\n",
            "Epoch 9/10\n",
            "1688/1688 [==============================] - 554s 328ms/step - loss: 0.0266 - accuracy: 0.9903 - val_loss: 0.4785 - val_accuracy: 0.9130\n",
            "Epoch 10/10\n",
            "1688/1688 [==============================] - 547s 324ms/step - loss: 0.0222 - accuracy: 0.9922 - val_loss: 0.4930 - val_accuracy: 0.9138\n"
          ]
        },
        {
          "output_type": "execute_result",
          "data": {
            "text/plain": [
              "<keras.src.callbacks.History at 0x7d5625ce42b0>"
            ]
          },
          "metadata": {},
          "execution_count": 31
        }
      ]
    },
    {
      "cell_type": "code",
      "source": [
        "model.evaluate(X_test, Y_test)"
      ],
      "metadata": {
        "colab": {
          "base_uri": "https://localhost:8080/"
        },
        "id": "m7sxBvwOAgVR",
        "outputId": "1ea0510e-540c-434a-93c4-d20000102797"
      },
      "execution_count": 32,
      "outputs": [
        {
          "output_type": "stream",
          "name": "stdout",
          "text": [
            "313/313 [==============================] - 27s 88ms/step - loss: 0.5204 - accuracy: 0.9083\n"
          ]
        },
        {
          "output_type": "execute_result",
          "data": {
            "text/plain": [
              "[0.5203821659088135, 0.90829998254776]"
            ]
          },
          "metadata": {},
          "execution_count": 32
        }
      ]
    }
  ]
}